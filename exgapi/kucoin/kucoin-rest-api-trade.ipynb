{
 "cells": [
  {
   "cell_type": "code",
   "execution_count": 1,
   "metadata": {},
   "outputs": [],
   "source": [
    "import requests\n",
    "import json\n",
    "import time\n",
    "import hashlib\n",
    "import hmac\n",
    "import base64"
   ]
  },
  {
   "cell_type": "markdown",
   "metadata": {},
   "source": [
    "# Global variables"
   ]
  },
  {
   "cell_type": "code",
   "execution_count": 2,
   "metadata": {},
   "outputs": [],
   "source": [
    "kchost = \"https://api.kucoin.com\""
   ]
  },
  {
   "cell_type": "code",
   "execution_count": 3,
   "metadata": {},
   "outputs": [],
   "source": [
    "with open(\"../../../keys/kc-key\") as f:\n",
    "    api_key, api_secret, api_passphrase = f.read().split()"
   ]
  },
  {
   "cell_type": "markdown",
   "metadata": {},
   "source": [
    "# Util functions"
   ]
  },
  {
   "cell_type": "code",
   "execution_count": 4,
   "metadata": {},
   "outputs": [],
   "source": [
    "def authenticate(endpoint, method, bodyStr=\"\"):\n",
    "    now = int(time.time() * 1000)\n",
    "    str_to_sign = str(now) + method.upper() + endpoint + bodyStr\n",
    "    signature = base64.b64encode(\n",
    "        hmac.new(api_secret.encode('utf-8'), str_to_sign.encode('utf-8'), hashlib.sha256).digest())\n",
    "    passphrase = base64.b64encode(hmac.new(api_secret.encode('utf-8'), api_passphrase.encode('utf-8'), hashlib.sha256).digest())\n",
    "    headers = {\n",
    "        \"KC-API-SIGN\": signature,\n",
    "        \"KC-API-TIMESTAMP\": str(now),\n",
    "        \"KC-API-KEY\": api_key,\n",
    "        \"KC-API-PASSPHRASE\": passphrase,\n",
    "        \"KC-API-KEY-VERSION\": \"2\",\n",
    "        \"Content-Type\": \"application/json\"\n",
    "    }\n",
    "    return headers"
   ]
  },
  {
   "cell_type": "code",
   "execution_count": 5,
   "metadata": {},
   "outputs": [],
   "source": [
    "def paramURL(params):\n",
    "    items = params.items()\n",
    "    t = [\"%s=%s\" % (k, v) for k, v in items]\n",
    "    return \"&\".join(t)\n",
    "def getPrivate(endpoint, params):\n",
    "    parmurl = paramURL(params)\n",
    "    if len(parmurl) > 0:\n",
    "        parmurl = \"?\" + parmurl\n",
    "    endpoint += parmurl\n",
    "    headers = authenticate(endpoint, \"get\")\n",
    "    url = \"%s%s\" % (kchost, endpoint)\n",
    "    return requests.get(url, headers=headers, timeout=5).json()"
   ]
  },
  {
   "cell_type": "code",
   "execution_count": 6,
   "metadata": {},
   "outputs": [],
   "source": [
    "def postPrivate(endpoint, body):\n",
    "    bodyStr = json.dumps(body)\n",
    "    headers = authenticate(endpoint, \"post\", bodyStr)\n",
    "    url = \"%s%s\" % (kchost, endpoint)\n",
    "    return requests.post(url, headers=headers, data=bodyStr, timeout=5).json()"
   ]
  },
  {
   "cell_type": "code",
   "execution_count": 7,
   "metadata": {},
   "outputs": [],
   "source": [
    "def delPrivate(endpoint, params):\n",
    "    parmurl = paramURL(params)\n",
    "    if len(parmurl) > 0:\n",
    "        parmurl = \"?\" + parmurl\n",
    "    endpoint += parmurl\n",
    "    headers = authenticate(endpoint, \"delete\")\n",
    "    url = \"%s%s\" % (kchost, endpoint)\n",
    "    return requests.delete(url, headers=headers, timeout=5).json()"
   ]
  },
  {
   "cell_type": "markdown",
   "metadata": {},
   "source": [
    "# Account info"
   ]
  },
  {
   "cell_type": "code",
   "execution_count": 11,
   "metadata": {},
   "outputs": [
    {
     "data": {
      "text/plain": [
       "{'code': '200000',\n",
       " 'data': [{'id': '620788520f6c7b000152b893',\n",
       "   'currency': 'BNB',\n",
       "   'type': 'trade',\n",
       "   'balance': '0.2',\n",
       "   'available': '0.2',\n",
       "   'holds': '0'},\n",
       "  {'id': '61ff9bac7d597e00017ab6ad',\n",
       "   'currency': 'BNB',\n",
       "   'type': 'main',\n",
       "   'balance': '0',\n",
       "   'available': '0',\n",
       "   'holds': '0'}]}"
      ]
     },
     "execution_count": 11,
     "metadata": {},
     "output_type": "execute_result"
    }
   ],
   "source": [
    "endpoint = \"/api/v1/accounts\"\n",
    "getPrivate(endpoint, {})"
   ]
  },
  {
   "cell_type": "code",
   "execution_count": 8,
   "metadata": {
    "scrolled": true
   },
   "outputs": [
    {
     "data": {
      "text/plain": [
       "'{\"type\": \"main\"}'"
      ]
     },
     "execution_count": 8,
     "metadata": {},
     "output_type": "execute_result"
    }
   ],
   "source": [
    "json.dumps({\"type\": \"main\"})"
   ]
  },
  {
   "cell_type": "markdown",
   "metadata": {},
   "source": [
    "# Internal transfer"
   ]
  },
  {
   "cell_type": "code",
   "execution_count": 9,
   "metadata": {},
   "outputs": [],
   "source": [
    "endpoint = \"/api/v2/accounts/inner-transfer\"\n",
    "body = {\n",
    "    \"clientOid\": str(int(time.time() * 1000)),\n",
    "    \"currency\": \"BNB\",\n",
    "    \"from\": \"main\",\n",
    "    \"to\": \"trade\",\n",
    "    \"amount\": 0.1\n",
    "}"
   ]
  },
  {
   "cell_type": "code",
   "execution_count": 10,
   "metadata": {},
   "outputs": [
    {
     "data": {
      "text/plain": [
       "{'code': '200000', 'data': {'orderId': '6263cedd54d3dd0001dc2b3e'}}"
      ]
     },
     "execution_count": 10,
     "metadata": {},
     "output_type": "execute_result"
    }
   ],
   "source": [
    "postPrivate(endpoint, body)"
   ]
  },
  {
   "cell_type": "markdown",
   "metadata": {},
   "source": [
    "# Sell order"
   ]
  },
  {
   "cell_type": "code",
   "execution_count": 27,
   "metadata": {},
   "outputs": [],
   "source": [
    "endpoint = \"/api/v1/orders\"\n",
    "body = {\n",
    "    \"clientOid\": str(int(time.time() * 1000)),\n",
    "    \"side\": \"sell\",\n",
    "    \"symbol\": \"BNB-USDT\",\n",
    "    \"type\": \"limit\",\n",
    "    \"price\": 500,\n",
    "    \"size\": 0.01\n",
    "}"
   ]
  },
  {
   "cell_type": "code",
   "execution_count": 28,
   "metadata": {},
   "outputs": [],
   "source": [
    "ret = postPrivate(endpoint, body)\n",
    "orderid = ret['data']['orderId']"
   ]
  },
  {
   "cell_type": "code",
   "execution_count": 29,
   "metadata": {},
   "outputs": [
    {
     "data": {
      "text/plain": [
       "'6263d05ae6dd460001c28f69'"
      ]
     },
     "execution_count": 29,
     "metadata": {},
     "output_type": "execute_result"
    }
   ],
   "source": [
    "orderid"
   ]
  },
  {
   "cell_type": "markdown",
   "metadata": {},
   "source": [
    "# Get order"
   ]
  },
  {
   "cell_type": "code",
   "execution_count": 20,
   "metadata": {},
   "outputs": [
    {
     "data": {
      "text/plain": [
       "{'code': '200000',\n",
       " 'data': {'id': '6263d000098e670001173967',\n",
       "  'symbol': 'BNB-USDT',\n",
       "  'opType': 'DEAL',\n",
       "  'type': 'limit',\n",
       "  'side': 'sell',\n",
       "  'price': '404',\n",
       "  'size': '0.02',\n",
       "  'funds': '0',\n",
       "  'dealFunds': '8.08944',\n",
       "  'dealSize': '0.02',\n",
       "  'fee': '0.00808944',\n",
       "  'feeCurrency': 'USDT',\n",
       "  'stp': '',\n",
       "  'stop': '',\n",
       "  'stopTriggered': False,\n",
       "  'stopPrice': '0',\n",
       "  'timeInForce': 'GTC',\n",
       "  'postOnly': False,\n",
       "  'hidden': False,\n",
       "  'iceberg': False,\n",
       "  'visibleSize': '0',\n",
       "  'cancelAfter': 0,\n",
       "  'channel': 'API',\n",
       "  'clientOid': '1650708479064',\n",
       "  'remark': None,\n",
       "  'tags': None,\n",
       "  'isActive': False,\n",
       "  'cancelExist': False,\n",
       "  'createdAt': 1650708480600,\n",
       "  'tradeType': 'TRADE'}}"
      ]
     },
     "execution_count": 20,
     "metadata": {},
     "output_type": "execute_result"
    }
   ],
   "source": [
    "endpoint = \"/api/v1/orders/%s\" % orderid\n",
    "getPrivate(endpoint, {})"
   ]
  },
  {
   "cell_type": "markdown",
   "metadata": {},
   "source": [
    "# Cancel order"
   ]
  },
  {
   "cell_type": "code",
   "execution_count": 16,
   "metadata": {},
   "outputs": [
    {
     "data": {
      "text/plain": [
       "{'code': '200000', 'data': {'cancelledOrderIds': ['6263cf8aefa6c900012cc35f']}}"
      ]
     },
     "execution_count": 16,
     "metadata": {},
     "output_type": "execute_result"
    }
   ],
   "source": [
    "endpoint = \"/api/v1/orders/%s\" % orderid\n",
    "delPrivate(endpoint, {})"
   ]
  },
  {
   "cell_type": "markdown",
   "metadata": {},
   "source": [
    "# Cancel all orders on a market"
   ]
  },
  {
   "cell_type": "code",
   "execution_count": 30,
   "metadata": {},
   "outputs": [
    {
     "data": {
      "text/plain": [
       "{'code': '200000',\n",
       " 'data': {'cancelledOrderIds': ['6263d04d8bd161000133d0b8',\n",
       "   '6263d05074b0a900012682a8',\n",
       "   '6263d05ae6dd460001c28f69']}}"
      ]
     },
     "execution_count": 30,
     "metadata": {},
     "output_type": "execute_result"
    }
   ],
   "source": [
    "endpoint = \"/api/v1/orders\"\n",
    "param = {\n",
    "    \"symbol\": \"BNB-USDT\"\n",
    "}\n",
    "delPrivate(endpoint, param)"
   ]
  },
  {
   "cell_type": "code",
   "execution_count": null,
   "metadata": {},
   "outputs": [],
   "source": []
  }
 ],
 "metadata": {
  "kernelspec": {
   "display_name": "Python 3",
   "language": "python",
   "name": "python3"
  },
  "language_info": {
   "codemirror_mode": {
    "name": "ipython",
    "version": 3
   },
   "file_extension": ".py",
   "mimetype": "text/x-python",
   "name": "python",
   "nbconvert_exporter": "python",
   "pygments_lexer": "ipython3",
   "version": "3.6.9"
  }
 },
 "nbformat": 4,
 "nbformat_minor": 2
}
